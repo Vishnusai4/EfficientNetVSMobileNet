{
  "nbformat": 4,
  "nbformat_minor": 0,
  "metadata": {
    "colab": {
      "name": "Measure_FLOPS.ipynb",
      "provenance": []
    },
    "kernelspec": {
      "name": "python3",
      "display_name": "Python 3"
    }
  },
  "cells": [
    {
      "cell_type": "code",
      "metadata": {
        "id": "QQ-bRNBV0ugX"
      },
      "source": [
        "import tensorflow as tf"
      ],
      "execution_count": null,
      "outputs": []
    },
    {
      "cell_type": "code",
      "metadata": {
        "id": "rWEI6qQ70wG1"
      },
      "source": [
        "def get_flops_mobilenet():\r\n",
        "    session = tf.compat.v1.Session()\r\n",
        "    graph = tf.compat.v1.get_default_graph()\r\n",
        "\r\n",
        "    with graph.as_default():\r\n",
        "        with session.as_default():\r\n",
        "            model = tf.keras.applications.mobilenet.MobileNet(\r\n",
        "                    alpha=1, weights=None, input_tensor=tf.compat.v1.placeholder('float32', shape=(1, 160, 160, 3)))\r\n",
        "\r\n",
        "            run_meta = tf.compat.v1.RunMetadata()\r\n",
        "            opts = tf.compat.v1.profiler.ProfileOptionBuilder.float_operation()\r\n",
        "\r\n",
        "            # Optional: save printed results to file\r\n",
        "            # flops_log_path = os.path.join(tempfile.gettempdir(), 'tf_flops_log.txt')\r\n",
        "            # opts['output'] = 'file:outfile={}'.format(flops_log_path)\r\n",
        "\r\n",
        "            # We use the Keras session graph in the call to the profiler.\r\n",
        "            flops = tf.compat.v1.profiler.profile(graph=graph,\r\n",
        "                                                  run_meta=run_meta, cmd='op', options=opts)\r\n",
        "\r\n",
        "    tf.compat.v1.reset_default_graph()\r\n",
        "\r\n",
        "    return flops.total_float_ops"
      ],
      "execution_count": null,
      "outputs": []
    },
    {
      "cell_type": "code",
      "metadata": {
        "id": "tAcNLN2Q1HjJ"
      },
      "source": [
        "flops_mobilenet = get_flops_mobilenet()"
      ],
      "execution_count": null,
      "outputs": []
    },
    {
      "cell_type": "code",
      "metadata": {
        "colab": {
          "base_uri": "https://localhost:8080/"
        },
        "id": "-W1GxOtE1I-b",
        "outputId": "ccde0297-9d3d-4a21-da0f-2c6d8cb2de11"
      },
      "source": [
        "flops_mobilenet"
      ],
      "execution_count": null,
      "outputs": [
        {
          "output_type": "execute_result",
          "data": {
            "text/plain": [
              "589844034"
            ]
          },
          "metadata": {
            "tags": []
          },
          "execution_count": 10
        }
      ]
    },
    {
      "cell_type": "code",
      "metadata": {
        "id": "wL3GLzM41Q-7"
      },
      "source": [
        "def get_flops_efficientnet():\r\n",
        "    session = tf.compat.v1.Session()\r\n",
        "    graph = tf.compat.v1.get_default_graph()\r\n",
        "\r\n",
        "    with graph.as_default():\r\n",
        "        with session.as_default():\r\n",
        "            model = tf.keras.applications.EfficientNetB0(\r\n",
        "                    weights=None, input_tensor=tf.compat.v1.placeholder('float32', shape=(1, 160, 160, 3)))\r\n",
        "\r\n",
        "            run_meta = tf.compat.v1.RunMetadata()\r\n",
        "            opts = tf.compat.v1.profiler.ProfileOptionBuilder.float_operation()\r\n",
        "\r\n",
        "            # Optional: save printed results to file\r\n",
        "            # flops_log_path = os.path.join(tempfile.gettempdir(), 'tf_flops_log.txt')\r\n",
        "            # opts['output'] = 'file:outfile={}'.format(flops_log_path)\r\n",
        "\r\n",
        "            # We use the Keras session graph in the call to the profiler.\r\n",
        "            flops = tf.compat.v1.profiler.profile(graph=graph,\r\n",
        "                                                  run_meta=run_meta, cmd='op', options=opts)\r\n",
        "\r\n",
        "    tf.compat.v1.reset_default_graph()\r\n",
        "\r\n",
        "    return flops.total_float_ops"
      ],
      "execution_count": null,
      "outputs": []
    },
    {
      "cell_type": "code",
      "metadata": {
        "id": "-02IwwFl1kEk"
      },
      "source": [
        "flops_efficient = get_flops_efficientnet()"
      ],
      "execution_count": null,
      "outputs": []
    },
    {
      "cell_type": "code",
      "metadata": {
        "colab": {
          "base_uri": "https://localhost:8080/"
        },
        "id": "aivCLazo1o_a",
        "outputId": "9827b9a7-ce30-439b-ae49-f6c13acdd36e"
      },
      "source": [
        "flops_efficient"
      ],
      "execution_count": null,
      "outputs": [
        {
          "output_type": "execute_result",
          "data": {
            "text/plain": [
              "411886635"
            ]
          },
          "metadata": {
            "tags": []
          },
          "execution_count": 15
        }
      ]
    },
    {
      "cell_type": "code",
      "metadata": {
        "id": "t_IU0dM11y_1"
      },
      "source": [
        "flops_difference = flops_mobilenet - flops_efficient"
      ],
      "execution_count": null,
      "outputs": []
    },
    {
      "cell_type": "code",
      "metadata": {
        "colab": {
          "base_uri": "https://localhost:8080/"
        },
        "id": "3Q1Tw6QI11ge",
        "outputId": "37447497-ff02-4871-c88d-0ed564e12594"
      },
      "source": [
        "flops_difference/10e6"
      ],
      "execution_count": null,
      "outputs": [
        {
          "output_type": "execute_result",
          "data": {
            "text/plain": [
              "17.7957399"
            ]
          },
          "metadata": {
            "tags": []
          },
          "execution_count": 21
        }
      ]
    },
    {
      "cell_type": "code",
      "metadata": {
        "id": "hCTYtIDM19K3"
      },
      "source": [
        ""
      ],
      "execution_count": null,
      "outputs": []
    }
  ]
}