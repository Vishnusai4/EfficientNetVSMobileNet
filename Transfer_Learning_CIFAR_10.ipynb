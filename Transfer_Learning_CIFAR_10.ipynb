{
  "nbformat": 4,
  "nbformat_minor": 0,
  "metadata": {
    "colab": {
      "name": "MobileNet_V2_CIFAR-10",
      "provenance": [],
      "collapsed_sections": []
    },
    "kernelspec": {
      "name": "python3",
      "display_name": "Python 3"
    }
  },
  "cells": [
    {
      "cell_type": "code",
      "metadata": {
        "id": "lgMaVRWE92aC"
      },
      "source": [
        ""
      ],
      "execution_count": null,
      "outputs": []
    },
    {
      "cell_type": "code",
      "metadata": {
        "id": "jotRAgc1wO2l"
      },
      "source": [
        "import matplotlib.pyplot as plt\n",
        "import numpy as np\n",
        "import os\n",
        "import tensorflow as tf\n",
        "\n",
        "from tensorflow.keras.preprocessing import image_dataset_from_directory\n"
      ],
      "execution_count": null,
      "outputs": []
    },
    {
      "cell_type": "code",
      "metadata": {
        "colab": {
          "base_uri": "https://localhost:8080/"
        },
        "id": "A5GroxPu-hK6",
        "outputId": "50d4529d-1950-4047-a80a-96459465b967"
      },
      "source": [
        "(train_images,train_labels), (test_images, test_labels) = tf.keras.datasets.cifar10.load_data()"
      ],
      "execution_count": null,
      "outputs": [
        {
          "output_type": "stream",
          "text": [
            "Downloading data from https://www.cs.toronto.edu/~kriz/cifar-10-python.tar.gz\n",
            "170500096/170498071 [==============================] - 4s 0us/step\n"
          ],
          "name": "stdout"
        }
      ]
    },
    {
      "cell_type": "code",
      "metadata": {
        "id": "WgZZVLX6-45D"
      },
      "source": [
        "BATCH_SIZE = 32\n",
        "IMG_SIZE = (160, 160)"
      ],
      "execution_count": null,
      "outputs": []
    },
    {
      "cell_type": "code",
      "metadata": {
        "id": "9eI75dosAPnB"
      },
      "source": [
        "train_ds = tf.data.Dataset.from_tensor_slices((train_images, train_labels))\n",
        "train_ds = train_ds.map(lambda x,y: (tf.image.resize(x,IMG_SIZE),y))\n",
        "train_ds = train_ds.batch(BATCH_SIZE)"
      ],
      "execution_count": null,
      "outputs": []
    },
    {
      "cell_type": "code",
      "metadata": {
        "id": "-iwm3IicBbCi"
      },
      "source": [
        "test_ds = tf.data.Dataset.from_tensor_slices((test_images, test_labels))\n",
        "test_ds = test_ds.map(lambda x,y: (tf.image.resize(x,IMG_SIZE),y))\n",
        "test_ds = test_ds.batch(BATCH_SIZE)"
      ],
      "execution_count": null,
      "outputs": []
    },
    {
      "cell_type": "code",
      "metadata": {
        "id": "720YsrsNBfrs"
      },
      "source": [
        "AUTOTUNE = tf.data.experimental.AUTOTUNE\n",
        "\n",
        "train_dataset = train_ds.prefetch(buffer_size=AUTOTUNE)\n",
        "#validation_dataset = validation_dataset.prefetch(buffer_size=AUTOTUNE)\n",
        "test_dataset = test_ds.prefetch(buffer_size=AUTOTUNE)"
      ],
      "execution_count": null,
      "outputs": []
    },
    {
      "cell_type": "code",
      "metadata": {
        "id": "vVNwQiiPDZ78"
      },
      "source": [
        "data_augmentation = tf.keras.Sequential([\n",
        "  tf.keras.layers.experimental.preprocessing.RandomFlip('horizontal'),\n",
        "  tf.keras.layers.experimental.preprocessing.RandomRotation(0.2),\n",
        "])"
      ],
      "execution_count": null,
      "outputs": []
    },
    {
      "cell_type": "code",
      "metadata": {
        "id": "Ex4v1xA-DeBX"
      },
      "source": [
        "preprocess_input = tf.keras.applications.mobilenet_v2.preprocess_input\n"
      ],
      "execution_count": null,
      "outputs": []
    },
    {
      "cell_type": "code",
      "metadata": {
        "id": "aiPJm3RtDhaI"
      },
      "source": [
        "rescale = tf.keras.layers.experimental.preprocessing.Rescaling(1./127.5, offset= -1)\n"
      ],
      "execution_count": null,
      "outputs": []
    },
    {
      "cell_type": "code",
      "metadata": {
        "id": "cUFPMHtPDl2v",
        "colab": {
          "base_uri": "https://localhost:8080/"
        },
        "outputId": "b75b9fe4-7243-44bd-b318-a98350d99e3a"
      },
      "source": [
        "IMG_SHAPE = IMG_SIZE + (3,)\n",
        "base_model = tf.keras.applications.MobileNetV2(input_shape=IMG_SHAPE,\n",
        "                                               include_top=False,\n",
        "                                               weights='imagenet')"
      ],
      "execution_count": null,
      "outputs": [
        {
          "output_type": "stream",
          "text": [
            "Downloading data from https://storage.googleapis.com/tensorflow/keras-applications/mobilenet_v2/mobilenet_v2_weights_tf_dim_ordering_tf_kernels_1.0_160_no_top.h5\n",
            "9412608/9406464 [==============================] - 0s 0us/step\n"
          ],
          "name": "stdout"
        }
      ]
    },
    {
      "cell_type": "code",
      "metadata": {
        "colab": {
          "base_uri": "https://localhost:8080/"
        },
        "id": "bqPyy9B7DosH",
        "outputId": "d1b6da94-ba1d-4634-bd74-f2941e197000"
      },
      "source": [
        "image_batch, label_batch = next(iter(train_dataset))\n",
        "feature_batch = base_model(image_batch)\n",
        "print(feature_batch.shape)"
      ],
      "execution_count": null,
      "outputs": [
        {
          "output_type": "stream",
          "text": [
            "(32, 5, 5, 1280)\n"
          ],
          "name": "stdout"
        }
      ]
    },
    {
      "cell_type": "code",
      "metadata": {
        "id": "57f8-qC1DsNM"
      },
      "source": [
        "base_model.trainable = False"
      ],
      "execution_count": null,
      "outputs": []
    },
    {
      "cell_type": "code",
      "metadata": {
        "colab": {
          "base_uri": "https://localhost:8080/"
        },
        "id": "fGr6AbOcDvGv",
        "outputId": "092cf277-7d6f-4e1d-e993-ae908f84f325"
      },
      "source": [
        "global_average_layer = tf.keras.layers.GlobalAveragePooling2D()\n",
        "feature_batch_average = global_average_layer(feature_batch)\n",
        "print(feature_batch_average.shape)"
      ],
      "execution_count": null,
      "outputs": [
        {
          "output_type": "stream",
          "text": [
            "(32, 1280)\n"
          ],
          "name": "stdout"
        }
      ]
    },
    {
      "cell_type": "code",
      "metadata": {
        "colab": {
          "base_uri": "https://localhost:8080/"
        },
        "id": "jHobN_tnDyOD",
        "outputId": "15112adc-3b1f-4f0d-879f-80e1cd529ee8"
      },
      "source": [
        "prediction_layer = tf.keras.layers.Dense(10,activation='softmax')\n",
        "prediction_batch = prediction_layer(feature_batch_average)\n",
        "print(prediction_batch.shape)"
      ],
      "execution_count": null,
      "outputs": [
        {
          "output_type": "stream",
          "text": [
            "(32, 10)\n"
          ],
          "name": "stdout"
        }
      ]
    },
    {
      "cell_type": "code",
      "metadata": {
        "id": "V1EUD1RbD2oH"
      },
      "source": [
        "inputs = tf.keras.Input(shape=(160, 160, 3))\n",
        "x = data_augmentation(inputs)\n",
        "x = preprocess_input(x)\n",
        "x = base_model(x, training=False)\n",
        "x = global_average_layer(x)\n",
        "x = tf.keras.layers.Dropout(0.2)(x)\n",
        "outputs = prediction_layer(x)\n",
        "model = tf.keras.Model(inputs, outputs)"
      ],
      "execution_count": null,
      "outputs": []
    },
    {
      "cell_type": "code",
      "metadata": {
        "id": "5-BrGwAXE-UI"
      },
      "source": [
        "base_learning_rate = 0.0001\n",
        "model.compile(optimizer=tf.keras.optimizers.Adam(lr=base_learning_rate),\n",
        "              loss=tf.keras.losses.SparseCategoricalCrossentropy\n",
        "(from_logits=True),\n",
        "              metrics=['accuracy'])"
      ],
      "execution_count": null,
      "outputs": []
    },
    {
      "cell_type": "code",
      "metadata": {
        "colab": {
          "base_uri": "https://localhost:8080/"
        },
        "id": "dL079rRHFT4c",
        "outputId": "9aceaab1-a06e-4ce8-a7a2-b2a8710348bc"
      },
      "source": [
        "history = model.fit(train_ds,\n",
        "                    epochs=10,\n",
        "                    validation_data=test_ds)"
      ],
      "execution_count": null,
      "outputs": [
        {
          "output_type": "stream",
          "text": [
            "Epoch 1/10\n",
            "1563/1563 [==============================] - 1194s 764ms/step - loss: 2.0829 - accuracy: 0.4111 - val_loss: 1.9220 - val_accuracy: 0.5785\n",
            "Epoch 2/10\n",
            "1563/1563 [==============================] - 1192s 762ms/step - loss: 1.9345 - accuracy: 0.5635 - val_loss: 1.8129 - val_accuracy: 0.6822\n",
            "Epoch 3/10\n",
            "1172/1563 [=====================>........] - ETA: 4:12 - loss: 1.8987 - accuracy: 0.5928"
          ],
          "name": "stdout"
        }
      ]
    },
    {
      "cell_type": "code",
      "metadata": {
        "id": "GJ7aw_xdcQcP"
      },
      "source": [
        "model.save('MV2_CIFAR_10.h5')"
      ],
      "execution_count": null,
      "outputs": []
    },
    {
      "cell_type": "code",
      "metadata": {
        "id": "g4pD9JzuFhCI",
        "colab": {
          "base_uri": "https://localhost:8080/",
          "height": 513
        },
        "outputId": "8b4c037d-a82b-4ceb-a071-6efaf791ebe8"
      },
      "source": [
        "\n",
        "acc = history.history['accuracy']\n",
        "val_acc = history.history['val_accuracy']\n",
        "\n",
        "loss = history.history['loss']\n",
        "val_loss = history.history['val_loss']\n",
        "\n",
        "plt.figure(figsize=(8, 8))\n",
        "plt.subplot(2, 1, 1)\n",
        "plt.plot(acc, label='Training Accuracy')\n",
        "plt.plot(val_acc, label='Validation Accuracy')\n",
        "plt.legend(loc='lower right')\n",
        "plt.ylabel('Accuracy')\n",
        "plt.ylim([min(plt.ylim()),1])\n",
        "plt.title('Training and Validation Accuracy')\n",
        "\n",
        "plt.subplot(2, 1, 2)\n",
        "plt.plot(loss, label='Training Loss')\n",
        "plt.plot(val_loss, label='Validation Loss')\n",
        "plt.legend(loc='upper right')\n",
        "plt.ylabel('Cross Entropy')\n",
        "plt.ylim([0,1.0])\n",
        "plt.title('Training and Validation Loss')\n",
        "plt.xlabel('epoch')\n",
        "plt.show()"
      ],
      "execution_count": null,
      "outputs": [
        {
          "output_type": "display_data",
          "data": {
            "image/png": "[encoded data removed]",
            "text/plain": [
              "<Figure size 576x576 with 2 Axes>"
            ]
          },
          "metadata": {
            "tags": [],
            "needs_background": "light"
          }
        }
      ]
    },
    {
      "cell_type": "code",
      "metadata": {
        "id": "n9dFFLOhx6Uz"
      },
      "source": [
        "base_model.trainable = True"
      ],
      "execution_count": null,
      "outputs": []
    },
    {
      "cell_type": "code",
      "metadata": {
        "colab": {
          "base_uri": "https://localhost:8080/"
        },
        "id": "azv84R0Ix_4x",
        "outputId": "3e9a8967-3280-4771-c2d7-5ce27c00cc3a"
      },
      "source": [
        "# Let's take a look to see how many layers are in the base model\n",
        "print(\"Number of layers in the base model: \", len(base_model.layers))\n",
        "\n",
        "# Fine-tune from this layer onwards\n",
        "fine_tune_at = 100\n",
        "\n",
        "# Freeze all the layers before the `fine_tune_at` layer\n",
        "for layer in base_model.layers[:fine_tune_at]:\n",
        "  layer.trainable =  False"
      ],
      "execution_count": null,
      "outputs": [
        {
          "output_type": "stream",
          "text": [
            "Number of layers in the base model:  155\n"
          ],
          "name": "stdout"
        }
      ]
    },
    {
      "cell_type": "code",
      "metadata": {
        "id": "H9EgPCG6yEA5"
      },
      "source": [
        "model.compile(loss=tf.keras.losses.SparseCategoricalCrossentropy(from_logits=True),\n",
        "              optimizer = tf.keras.optimizers.RMSprop(lr=base_learning_rate/10),\n",
        "              metrics=['accuracy'])"
      ],
      "execution_count": null,
      "outputs": []
    },
    {
      "cell_type": "code",
      "metadata": {
        "colab": {
          "base_uri": "https://localhost:8080/"
        },
        "id": "MuGRUOj4yQAG",
        "outputId": "28fe6fce-c97c-4741-b129-6bf3899ec9a1"
      },
      "source": [
        "fine_tune_epochs = 10\n",
        "initial_epochs = 10\n",
        "total_epochs =  initial_epochs + fine_tune_epochs\n",
        "\n",
        "history_fine = model.fit(train_ds,\n",
        "                         epochs=total_epochs,\n",
        "                         initial_epoch=history.epoch[-1],\n",
        "                         validation_data=test_ds)"
      ],
      "execution_count": null,
      "outputs": [
        {
          "output_type": "stream",
          "text": [
            "Epoch 10/20\n",
            "1563/1563 [==============================] - 1879s 1s/step - loss: 1.7686 - accuracy: 0.6943 - val_loss: 1.6730 - val_accuracy: 0.7916\n",
            "Epoch 11/20\n",
            "1563/1563 [==============================] - 1893s 1s/step - loss: 1.7309 - accuracy: 0.7315 - val_loss: 1.6371 - val_accuracy: 0.8264\n",
            "Epoch 12/20\n",
            "1563/1563 [==============================] - 1897s 1s/step - loss: 1.7088 - accuracy: 0.7524 - val_loss: 1.6622 - val_accuracy: 0.8008\n",
            "Epoch 13/20\n",
            "1563/1563 [==============================] - 1896s 1s/step - loss: 1.6920 - accuracy: 0.7696 - val_loss: 1.6196 - val_accuracy: 0.8429\n",
            "Epoch 14/20\n",
            "1563/1563 [==============================] - 1916s 1s/step - loss: 1.6804 - accuracy: 0.7810 - val_loss: 1.6245 - val_accuracy: 0.8373\n",
            "Epoch 15/20\n",
            "1563/1563 [==============================] - 1899s 1s/step - loss: 1.6726 - accuracy: 0.7886 - val_loss: 1.6217 - val_accuracy: 0.8407\n",
            "Epoch 16/20\n",
            "1563/1563 [==============================] - 1919s 1s/step - loss: 1.6634 - accuracy: 0.7979 - val_loss: 1.6184 - val_accuracy: 0.8440\n",
            "Epoch 17/20\n",
            "1563/1563 [==============================] - 1908s 1s/step - loss: 1.6579 - accuracy: 0.8036 - val_loss: 1.6117 - val_accuracy: 0.8511\n",
            "Epoch 18/20\n",
            "1563/1563 [==============================] - 1895s 1s/step - loss: 1.6510 - accuracy: 0.8103 - val_loss: 1.6091 - val_accuracy: 0.8524\n",
            "Epoch 19/20\n",
            "1563/1563 [==============================] - 1914s 1s/step - loss: 1.6465 - accuracy: 0.8150 - val_loss: 1.5983 - val_accuracy: 0.8639\n",
            "Epoch 20/20\n",
            "1563/1563 [==============================] - 1891s 1s/step - loss: 1.6425 - accuracy: 0.8184 - val_loss: 1.6077 - val_accuracy: 0.8519\n"
          ],
          "name": "stdout"
        }
      ]
    },
    {
      "cell_type": "code",
      "metadata": {
        "colab": {
          "base_uri": "https://localhost:8080/",
          "height": 162
        },
        "id": "8hQYU8xvnbB_",
        "outputId": "8c66f2e6-b37f-49c3-aa23-a9038cf06c9c"
      },
      "source": [
        "model.save('MV2_CIFAR10.h5')"
      ],
      "execution_count": null,
      "outputs": [
        {
          "output_type": "error",
          "ename": "NameError",
          "evalue": "ignored",
          "traceback": [
            "\u001b[0;31m---------------------------------------------------------------------------\u001b[0m",
            "\u001b[0;31mNameError\u001b[0m                                 Traceback (most recent call last)",
            "\u001b[0;32m<ipython-input-1-b5492974bc49>\u001b[0m in \u001b[0;36m<module>\u001b[0;34m()\u001b[0m\n\u001b[0;32m----> 1\u001b[0;31m \u001b[0mmodel\u001b[0m\u001b[0;34m.\u001b[0m\u001b[0msave\u001b[0m\u001b[0;34m(\u001b[0m\u001b[0;34m'MV2_CIFAR10.h5'\u001b[0m\u001b[0;34m)\u001b[0m\u001b[0;34m\u001b[0m\u001b[0;34m\u001b[0m\u001b[0m\n\u001b[0m",
            "\u001b[0;31mNameError\u001b[0m: name 'model' is not defined"
          ]
        }
      ]
    },
    {
      "cell_type": "code",
      "metadata": {
        "id": "QFNTUWvIySpI"
      },
      "source": [
        "acc += history_fine.history['accuracy']\n",
        "val_acc += history_fine.history['val_accuracy']\n",
        "\n",
        "loss += history_fine.history['loss']\n",
        "val_loss += history_fine.history['val_loss']"
      ],
      "execution_count": null,
      "outputs": []
    },
    {
      "cell_type": "code",
      "metadata": {
        "colab": {
          "base_uri": "https://localhost:8080/",
          "height": 513
        },
        "id": "ZCCGwLuDZVXs",
        "outputId": "d15ee09e-6eb1-4525-9a47-787466cad01c"
      },
      "source": [
        "plt.figure(figsize=(8, 8))\n",
        "plt.subplot(2, 1, 1)\n",
        "plt.plot(acc, label='Training Accuracy')\n",
        "plt.plot(val_acc, label='Validation Accuracy')\n",
        "plt.ylim([0.8, 1])\n",
        "plt.plot([initial_epochs-1,initial_epochs-1],\n",
        "          plt.ylim(), label='Start Fine Tuning')\n",
        "plt.legend(loc='lower right')\n",
        "plt.title('Training and Validation Accuracy')\n",
        "\n",
        "plt.subplot(2, 1, 2)\n",
        "plt.plot(loss, label='Training Loss')\n",
        "plt.plot(val_loss, label='Validation Loss')\n",
        "plt.ylim([0, 1.0])\n",
        "plt.plot([initial_epochs-1,initial_epochs-1],\n",
        "         plt.ylim(), label='Start Fine Tuning')\n",
        "plt.legend(loc='upper right')\n",
        "plt.title('Training and Validation Loss')\n",
        "plt.xlabel('epoch')\n",
        "plt.show()"
      ],
      "execution_count": null,
      "outputs": [
        {
          "output_type": "display_data",
          "data": {
            "image/png": "[encoded data removed]",
            "text/plain": [
              "<Figure size 576x576 with 2 Axes>"
            ]
          },
          "metadata": {
            "tags": [],
            "needs_background": "light"
          }
        }
      ]
    },
    {
      "cell_type": "markdown",
      "metadata": {
        "id": "3gWqjliQulHG"
      },
      "source": [
        "# New section"
      ]
    },
    {
      "cell_type": "code",
      "metadata": {
        "colab": {
          "base_uri": "https://localhost:8080/"
        },
        "id": "OfRBlP0LoOOf",
        "outputId": "0a79e7d9-b921-44a7-bbe2-c0e67ab298f2"
      },
      "source": [
        "IMG_SHAPE = IMG_SIZE + (3,)\n",
        "\n",
        "base_model = tf.keras.applications.EfficientNetB0(input_shape=IMG_SHAPE,\n",
        "                                               include_top=False,\n",
        "                                               weights='imagenet')\n"
      ],
      "execution_count": null,
      "outputs": [
        {
          "output_type": "stream",
          "text": [
            "Downloading data from https://storage.googleapis.com/keras-applications/efficientnetb0_notop.h5\n",
            "16711680/16705208 [==============================] - 0s 0us/step\n"
          ],
          "name": "stdout"
        }
      ]
    },
    {
      "cell_type": "code",
      "metadata": {
        "id": "IG2fiLmmBF3T"
      },
      "source": [
        "preprocess_input = tf.keras.applications.efficientnet.preprocess_input"
      ],
      "execution_count": null,
      "outputs": []
    },
    {
      "cell_type": "code",
      "metadata": {
        "colab": {
          "base_uri": "https://localhost:8080/"
        },
        "id": "8Fhw2jK-Ak7-",
        "outputId": "5f6fdac0-9b09-49ba-a247-d18dea985e53"
      },
      "source": [
        "image_batch, label_batch = next(iter(train_dataset))\n",
        "feature_batch = base_model(image_batch)\n",
        "print(feature_batch.shape)"
      ],
      "execution_count": null,
      "outputs": [
        {
          "output_type": "stream",
          "text": [
            "(32, 5, 5, 1280)\n"
          ],
          "name": "stdout"
        }
      ]
    },
    {
      "cell_type": "code",
      "metadata": {
        "id": "2cdQkQUpAvKY"
      },
      "source": [
        "base_model.trainable = False"
      ],
      "execution_count": null,
      "outputs": []
    },
    {
      "cell_type": "code",
      "metadata": {
        "colab": {
          "base_uri": "https://localhost:8080/"
        },
        "id": "_h76h91tAyb7",
        "outputId": "93d5d39b-cf3f-4673-c325-d0d6e9c926ba"
      },
      "source": [
        "global_average_layer = tf.keras.layers.GlobalAveragePooling2D()\n",
        "feature_batch_average = global_average_layer(feature_batch)\n",
        "print(feature_batch_average.shape)"
      ],
      "execution_count": null,
      "outputs": [
        {
          "output_type": "stream",
          "text": [
            "(32, 1280)\n"
          ],
          "name": "stdout"
        }
      ]
    },
    {
      "cell_type": "code",
      "metadata": {
        "colab": {
          "base_uri": "https://localhost:8080/"
        },
        "id": "tw8Fz1UkA4oC",
        "outputId": "20f11a70-3854-45b1-9376-856db00be86f"
      },
      "source": [
        "prediction_layer = tf.keras.layers.Dense(10,activation='softmax')\n",
        "prediction_batch = prediction_layer(feature_batch_average)\n",
        "print(prediction_batch.shape)"
      ],
      "execution_count": null,
      "outputs": [
        {
          "output_type": "stream",
          "text": [
            "(32, 10)\n"
          ],
          "name": "stdout"
        }
      ]
    },
    {
      "cell_type": "code",
      "metadata": {
        "id": "8jigvvSXA8xc"
      },
      "source": [
        "inputs = tf.keras.Input(shape=(160, 160, 3))\n",
        "x = data_augmentation(inputs)\n",
        "x = preprocess_input(x)\n",
        "x = base_model(x, training=False)\n",
        "x = global_average_layer(x)\n",
        "x = tf.keras.layers.Dropout(0.2)(x)\n",
        "outputs = prediction_layer(x)\n",
        "model = tf.keras.Model(inputs, outputs)"
      ],
      "execution_count": null,
      "outputs": []
    },
    {
      "cell_type": "code",
      "metadata": {
        "id": "OLV1wSrPBBM8"
      },
      "source": [
        "base_learning_rate = 0.0001\n",
        "model.compile(optimizer=tf.keras.optimizers.Adam(lr=base_learning_rate),\n",
        "              loss=tf.keras.losses.SparseCategoricalCrossentropy(from_logits=True),\n",
        "              metrics=['accuracy'])"
      ],
      "execution_count": null,
      "outputs": []
    },
    {
      "cell_type": "code",
      "metadata": {
        "colab": {
          "base_uri": "https://localhost:8080/"
        },
        "id": "bJjGDHKLBJa5",
        "outputId": "eb85836e-83d9-4aa7-d44d-2f18aee4abc0"
      },
      "source": [
        "history = model.fit(train_ds,\n",
        "                    epochs=10,\n",
        "                    validation_data=test_ds)"
      ],
      "execution_count": null,
      "outputs": [
        {
          "output_type": "stream",
          "text": [
            "Epoch 1/10\n",
            "1563/1563 [==============================] - 1793s 1s/step - loss: 2.0370 - accuracy: 0.5253 - val_loss: 1.8245 - val_accuracy: 0.7442\n",
            "Epoch 2/10\n",
            "1563/1563 [==============================] - 1794s 1s/step - loss: 1.8741 - accuracy: 0.6571 - val_loss: 1.7423 - val_accuracy: 0.7846\n",
            "Epoch 3/10\n",
            "1563/1563 [==============================] - 1798s 1s/step - loss: 1.8307 - accuracy: 0.6843 - val_loss: 1.7087 - val_accuracy: 0.8014\n",
            "Epoch 4/10\n",
            "1563/1563 [==============================] - 1801s 1s/step - loss: 1.8083 - accuracy: 0.7000 - val_loss: 1.6904 - val_accuracy: 0.8094\n",
            "Epoch 5/10\n",
            "1563/1563 [==============================] - 1807s 1s/step - loss: 1.7930 - accuracy: 0.7090 - val_loss: 1.6796 - val_accuracy: 0.8125\n",
            "Epoch 6/10\n",
            "1563/1563 [==============================] - 1811s 1s/step - loss: 1.7832 - accuracy: 0.7148 - val_loss: 1.6717 - val_accuracy: 0.8176\n",
            "Epoch 7/10\n",
            "1563/1563 [==============================] - 1809s 1s/step - loss: 1.7757 - accuracy: 0.7200 - val_loss: 1.6652 - val_accuracy: 0.8211\n",
            "Epoch 8/10\n",
            "1563/1563 [==============================] - 1802s 1s/step - loss: 1.7689 - accuracy: 0.7246 - val_loss: 1.6607 - val_accuracy: 0.8252\n",
            "Epoch 9/10\n",
            "1563/1563 [==============================] - 1802s 1s/step - loss: 1.7642 - accuracy: 0.7282 - val_loss: 1.6576 - val_accuracy: 0.8268\n",
            "Epoch 10/10\n",
            "1563/1563 [==============================] - 1798s 1s/step - loss: 1.7584 - accuracy: 0.7337 - val_loss: 1.6535 - val_accuracy: 0.8293\n"
          ],
          "name": "stdout"
        }
      ]
    },
    {
      "cell_type": "code",
      "metadata": {
        "id": "j9K19IwmBKzo"
      },
      "source": [
        "model.save('Effb0_cifar10.h5')"
      ],
      "execution_count": null,
      "outputs": []
    },
    {
      "cell_type": "code",
      "metadata": {
        "id": "36YxxeEQPceH"
      },
      "source": [
        "model = tf.keras.models.load_model('Effb0_cifar10.h5')"
      ],
      "execution_count": null,
      "outputs": []
    },
    {
      "cell_type": "code",
      "metadata": {
        "colab": {
          "base_uri": "https://localhost:8080/",
          "height": 513
        },
        "id": "58a3SKL-O81c",
        "outputId": "a3bb935e-09f7-48a4-e1fb-044f5c0f3cbe"
      },
      "source": [
        "\n",
        "acc = history.history['accuracy']\n",
        "val_acc = history.history['val_accuracy']\n",
        "\n",
        "loss = history.history['loss']\n",
        "val_loss = history.history['val_loss']\n",
        "\n",
        "plt.figure(figsize=(8, 8))\n",
        "plt.subplot(2, 1, 1)\n",
        "plt.plot(acc, label='Training Accuracy')\n",
        "plt.plot(val_acc, label='Validation Accuracy')\n",
        "plt.legend(loc='lower right')\n",
        "plt.ylabel('Accuracy')\n",
        "plt.ylim([min(plt.ylim()),1])\n",
        "plt.title('Training and Validation Accuracy')\n",
        "\n",
        "plt.subplot(2, 1, 2)\n",
        "plt.plot(loss, label='Training Loss')\n",
        "plt.plot(val_loss, label='Validation Loss')\n",
        "plt.legend(loc='upper right')\n",
        "plt.ylabel('Cross Entropy')\n",
        "plt.ylim([0,1.0])\n",
        "plt.title('Training and Validation Loss')\n",
        "plt.xlabel('epoch')\n",
        "plt.show()"
      ],
      "execution_count": null,
      "outputs": [
        {
          "output_type": "display_data",
          "data": {
            "image/png": "[encoded data removed]",
            "text/plain": [
              "<Figure size 576x576 with 2 Axes>"
            ]
          },
          "metadata": {
            "tags": [],
            "needs_background": "light"
          }
        }
      ]
    },
    {
      "cell_type": "code",
      "metadata": {
        "id": "he8fDab1PBdp"
      },
      "source": [
        "base_model.trainable = True"
      ],
      "execution_count": null,
      "outputs": []
    },
    {
      "cell_type": "code",
      "metadata": {
        "colab": {
          "base_uri": "https://localhost:8080/"
        },
        "id": "ZnqAHbXXPt3G",
        "outputId": "1719a352-f9c5-4760-af25-8296c4de5b9e"
      },
      "source": [
        "model.summary()"
      ],
      "execution_count": null,
      "outputs": [
        {
          "output_type": "stream",
          "text": [
            "Model: \"functional_1\"\n",
            "_________________________________________________________________\n",
            "Layer (type)                 Output Shape              Param #   \n",
            "=================================================================\n",
            "input_3 (InputLayer)         [(None, 160, 160, 3)]     0         \n",
            "_________________________________________________________________\n",
            "sequential (Sequential)      (None, 160, 160, 3)       0         \n",
            "_________________________________________________________________\n",
            "efficientnetb0 (Functional)  (None, 5, 5, 1280)        4049571   \n",
            "_________________________________________________________________\n",
            "global_average_pooling2d (Gl (None, 1280)              0         \n",
            "_________________________________________________________________\n",
            "dropout (Dropout)            (None, 1280)              0         \n",
            "_________________________________________________________________\n",
            "dense (Dense)                (None, 10)                12810     \n",
            "=================================================================\n",
            "Total params: 4,062,381\n",
            "Trainable params: 12,810\n",
            "Non-trainable params: 4,049,571\n",
            "_________________________________________________________________\n"
          ],
          "name": "stdout"
        }
      ]
    },
    {
      "cell_type": "code",
      "metadata": {
        "id": "sPYg4NV3P42g"
      },
      "source": [
        ""
      ],
      "execution_count": null,
      "outputs": []
    },
    {
      "cell_type": "code",
      "metadata": {
        "colab": {
          "base_uri": "https://localhost:8080/"
        },
        "id": "zJxIhoc_PxvQ",
        "outputId": "a7bcaaff-c463-40cf-91e6-3787df19a7fe"
      },
      "source": [
        "base_model = model.layers[2]\n",
        "base_model.trainable"
      ],
      "execution_count": null,
      "outputs": [
        {
          "output_type": "execute_result",
          "data": {
            "text/plain": [
              "True"
            ]
          },
          "metadata": {
            "tags": []
          },
          "execution_count": 36
        }
      ]
    },
    {
      "cell_type": "code",
      "metadata": {
        "colab": {
          "base_uri": "https://localhost:8080/"
        },
        "id": "5WRWKk1OPQWV",
        "outputId": "a80eb475-26cd-46ed-98d7-fa4ac8624739"
      },
      "source": [
        "# Let's take a look to see how many layers are in the base model\n",
        "print(\"Number of layers in the base model: \", len(base_model.layers))\n",
        "\n",
        "# Fine-tune from this layer onwards\n",
        "fine_tune_at = 100\n",
        "\n",
        "# Freeze all the layers before the `fine_tune_at` layer\n",
        "for layer in base_model.layers[:fine_tune_at]:\n",
        "  layer.trainable =  False"
      ],
      "execution_count": null,
      "outputs": [
        {
          "output_type": "stream",
          "text": [
            "Number of layers in the base model:  237\n"
          ],
          "name": "stdout"
        }
      ]
    },
    {
      "cell_type": "code",
      "metadata": {
        "id": "Igp16TRbQATx"
      },
      "source": [
        "model.compile(loss=tf.keras.losses.SparseCategoricalCrossentropy(from_logits=True),\n",
        "              optimizer = tf.keras.optimizers.RMSprop(lr=base_learning_rate/10),\n",
        "              metrics=['accuracy'])"
      ],
      "execution_count": null,
      "outputs": []
    },
    {
      "cell_type": "code",
      "metadata": {
        "colab": {
          "base_uri": "https://localhost:8080/"
        },
        "id": "CV6e7vlXQFlF",
        "outputId": "93f7855f-0e4c-4d51-8259-e3f77caeca2e"
      },
      "source": [
        "fine_tune_epochs = 10\n",
        "initial_epochs = 10\n",
        "total_epochs =  initial_epochs + fine_tune_epochs\n",
        "\n",
        "history_fine = model.fit(train_ds,\n",
        "                         epochs=total_epochs,\n",
        "                         initial_epoch=history.epoch[-1],\n",
        "                         validation_data=test_ds)"
      ],
      "execution_count": null,
      "outputs": [
        {
          "output_type": "stream",
          "text": [
            "Epoch 10/20\n",
            "1563/1563 [==============================] - 1814s 1s/step - loss: 1.7550 - accuracy: 0.7356 - val_loss: 1.6531 - val_accuracy: 0.8295\n",
            "Epoch 11/20\n",
            "1563/1563 [==============================] - 1813s 1s/step - loss: 1.7552 - accuracy: 0.7327 - val_loss: 1.6528 - val_accuracy: 0.8290\n",
            "Epoch 12/20\n",
            "1563/1563 [==============================] - 1815s 1s/step - loss: 1.7540 - accuracy: 0.7365 - val_loss: 1.6526 - val_accuracy: 0.8291\n",
            "Epoch 13/20\n",
            "1563/1563 [==============================] - 1813s 1s/step - loss: 1.7542 - accuracy: 0.7358 - val_loss: 1.6525 - val_accuracy: 0.8295\n",
            "Epoch 14/20\n",
            "1563/1563 [==============================] - 1812s 1s/step - loss: 1.7536 - accuracy: 0.7360 - val_loss: 1.6522 - val_accuracy: 0.8292\n",
            "Epoch 15/20\n",
            "1563/1563 [==============================] - 1821s 1s/step - loss: 1.7540 - accuracy: 0.7351 - val_loss: 1.6519 - val_accuracy: 0.8303\n",
            "Epoch 16/20\n",
            "1563/1563 [==============================] - 1818s 1s/step - loss: 1.7544 - accuracy: 0.7346 - val_loss: 1.6517 - val_accuracy: 0.8302\n",
            "Epoch 17/20\n",
            "1563/1563 [==============================] - 1814s 1s/step - loss: 1.7521 - accuracy: 0.7364 - val_loss: 1.6515 - val_accuracy: 0.8302\n",
            "Epoch 18/20\n",
            "1563/1563 [==============================] - 1812s 1s/step - loss: 1.7521 - accuracy: 0.7352 - val_loss: 1.6512 - val_accuracy: 0.8303\n",
            "Epoch 19/20\n",
            "1359/1563 [=========================>....] - ETA: 3:18 - loss: 1.7503 - accuracy: 0.7401"
          ],
          "name": "stdout"
        }
      ]
    },
    {
      "cell_type": "code",
      "metadata": {
        "id": "M38T9yRRQJeE"
      },
      "source": [
        "model.save('Eff_CIFAR_10.h5')"
      ],
      "execution_count": null,
      "outputs": []
    },
    {
      "cell_type": "code",
      "metadata": {
        "id": "5n2Xq9bFnYPb"
      },
      "source": [
        ""
      ],
      "execution_count": null,
      "outputs": []
    }
  ]
}